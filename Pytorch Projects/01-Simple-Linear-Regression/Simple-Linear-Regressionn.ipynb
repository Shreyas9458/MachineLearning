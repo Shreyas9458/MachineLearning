{
 "cells": [
  {
   "cell_type": "markdown",
   "id": "3f81594e",
   "metadata": {},
   "source": [
    "# Simple Linear Regression using Pytorch."
   ]
  },
  {
   "cell_type": "markdown",
   "id": "fd85dbf1",
   "metadata": {},
   "source": []
  }
 ],
 "metadata": {
  "language_info": {
   "name": "python"
  }
 },
 "nbformat": 4,
 "nbformat_minor": 5
}
